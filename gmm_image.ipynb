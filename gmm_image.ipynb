{
 "cells": [
  {
   "cell_type": "code",
   "execution_count": 2,
   "metadata": {},
   "outputs": [],
   "source": [
    "import pandas as pd\n",
    "import numpy as np \n",
    "import os\n",
    "from sklearn.cluster import KMeans\n",
    "import matplotlib.pyplot as plt\n",
    "from datetime import datetime, timedelta\n",
    "from PIL import Image\n",
    "import seaborn as sns\n",
    "from sklearn.mixture import GaussianMixture\n",
    "from sklearn.metrics import silhouette_score\n",
    "import random\n",
    "import warnings\n",
    "warnings.filterwarnings('ignore')\n",
    "\n",
    "pd.set_option('display.max_row', 100)\n",
    "pd.set_option('display.max_columns', 50)\n",
    "\n",
    "\n",
    "def get_dates_between(start_date, end_date):\n",
    "    start_datetime = datetime.strptime(start_date, \"%Y-%m-%d %H\")\n",
    "    end_datetime = datetime.strptime(end_date, \"%Y-%m-%d %H\")\n",
    "    \n",
    "    dates_list = []\n",
    "    current_datetime = start_datetime\n",
    "    while current_datetime <= end_datetime:\n",
    "        dates_list.append((current_datetime.strftime(\"%Y-%m-%d\"), current_datetime.strftime(\"%H\")))\n",
    "        current_datetime += timedelta(hours=1)\n",
    "\n",
    "    return dates_list"
   ]
  },
  {
   "cell_type": "code",
   "execution_count": 4,
   "metadata": {},
   "outputs": [],
   "source": [
    "image_files = []\n",
    "\n",
    "for date, hour in get_dates_between(\"2023-12-01 00\", \"2024-03-31 00\"):\n",
    "    for i in range(0, 59):\n",
    "        minute = '{:02d}'.format(i)\n",
    "        file_name = f\"./ob/{date}/{hour}/{minute}.png\"\n",
    "        image_files.append(file_name)\n",
    "\n",
    "\n",
    "# features와 image_shapes 리스트 초기화\n",
    "features = []\n",
    "image_shapes = []\n",
    "\n",
    "# sampled_image_files에서 이미지 파일들을 가져와서 처리\n",
    "sampled_image_files = random.sample(image_files, k=len(image_files)//100)\n",
    "for image_file in sampled_image_files:\n",
    "    try:\n",
    "        image = Image.open(image_file)\n",
    "        image = image.convert('RGB')  \n",
    "        image = image.resize((40, 40))  \n",
    "        image_shape = image.size  # 이미지의 width와 height 가져오기\n",
    "        image_array = np.array(image)  # 이미지를 배열로 변환\n",
    "        features.append(image_array.flatten())  # 이미지를 1차원 배열로 펼쳐서 특징 벡터에 추가\n",
    "        image_shapes.append(image_shape)  # 이미지의 크기 정보 저장\n",
    "    except:\n",
    "        pass\n",
    "\n",
    "# features를 numpy 배열로 변환\n",
    "X = np.array(features)"
   ]
  },
  {
   "cell_type": "code",
   "execution_count": 5,
   "metadata": {},
   "outputs": [
    {
     "name": "stderr",
     "output_type": "stream",
     "text": [
      "  File \"/opt/homebrew/anaconda3/lib/python3.11/site-packages/joblib/externals/loky/backend/context.py\", line 270, in _count_physical_cores\n",
      "    cpu_info = subprocess.run(\n",
      "               ^^^^^^^^^^^^^^^\n",
      "  File \"/opt/homebrew/anaconda3/lib/python3.11/subprocess.py\", line 548, in run\n",
      "    with Popen(*popenargs, **kwargs) as process:\n",
      "         ^^^^^^^^^^^^^^^^^^^^^^^^^^^\n",
      "  File \"/opt/homebrew/anaconda3/lib/python3.11/subprocess.py\", line 1026, in __init__\n",
      "    self._execute_child(args, executable, preexec_fn, close_fds,\n",
      "  File \"/opt/homebrew/anaconda3/lib/python3.11/subprocess.py\", line 1950, in _execute_child\n",
      "    raise child_exception_type(errno_num, err_msg, err_filename)\n"
     ]
    }
   ],
   "source": [
    "gmm = GaussianMixture(n_components=8, random_state=42)\n",
    "gmm.fit(X)\n",
    "bic = gmm.bic(X)  # BIC(Bayesian Information Crsiterion) 계산\n",
    "labels = gmm.predict(X)"
   ]
  },
  {
   "cell_type": "code",
   "execution_count": null,
   "metadata": {},
   "outputs": [],
   "source": [
    "features = []\n",
    "image_shapes = []  # 이미지의 크기를 저장할 리스트 추가\n",
    "image_datetime = []\n",
    "\n",
    "for image_file in image_files:\n",
    "    try:\n",
    "        image = Image.open(image_file)\n",
    "        image_datetime.append(f\"{image_file.split('/')[2]} {image_file.split('/')[3]}:{image_file.split('/')[4].split('.')[0]}\")\n",
    "    except:\n",
    "        pass\n",
    "\n",
    "df = pd.DataFrame(image_datetime, columns=['datetime'])\n",
    "df['label'] = labels\n",
    "df.to_csv(\"gmm_image.csv\")"
   ]
  }
 ],
 "metadata": {
  "kernelspec": {
   "display_name": "Python 3",
   "language": "python",
   "name": "python3"
  },
  "language_info": {
   "codemirror_mode": {
    "name": "ipython",
    "version": 3
   },
   "file_extension": ".py",
   "mimetype": "text/x-python",
   "name": "python",
   "nbconvert_exporter": "python",
   "pygments_lexer": "ipython3",
   "version": "3.11.4"
  }
 },
 "nbformat": 4,
 "nbformat_minor": 2
}
