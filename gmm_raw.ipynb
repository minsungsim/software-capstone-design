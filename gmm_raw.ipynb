{
 "cells": [
  {
   "cell_type": "code",
   "execution_count": 7,
   "metadata": {},
   "outputs": [],
   "source": [
    "import pandas as pd\n",
    "import numpy as np \n",
    "import os\n",
    "from sklearn.cluster import KMeans\n",
    "import matplotlib.pyplot as plt\n",
    "from datetime import datetime, timedelta\n",
    "from PIL import Image\n",
    "import seaborn as sns\n",
    "from sklearn.mixture import GaussianMixture\n",
    "from sklearn.metrics import silhouette_score\n",
    "import warnings\n",
    "warnings.filterwarnings('ignore')\n",
    "\n",
    "pd.set_option('display.max_row', 100)\n",
    "pd.set_option('display.max_columns', 50)"
   ]
  },
  {
   "cell_type": "code",
   "execution_count": 8,
   "metadata": {},
   "outputs": [],
   "source": [
    "df = pd.read_csv('./result_data/data.csv')\n",
    "\n",
    "t_df = df.drop(columns=[\"timestamp\", \"price\", \"Unnamed: 0\"], axis=1)\n",
    "t_df = t_df.abs()\n",
    "\n",
    "for i in range(1, 11, 1):\n",
    "    for j in range(i - 1, 0, -1):\n",
    "        t_df[f'ask{i}'] += df[f'ask{j}']\n",
    "        t_df[f'bid{i}'] += df[f'bid{j}']"
   ]
  },
  {
   "cell_type": "code",
   "execution_count": 9,
   "metadata": {},
   "outputs": [],
   "source": [
    "gmm = GaussianMixture(n_components=8, random_state=42)\n",
    "gmm.fit(t_df.values)\n",
    "bic = gmm.bic(t_df.values) \n",
    "labels = gmm.predict(t_df.values)"
   ]
  },
  {
   "cell_type": "code",
   "execution_count": 10,
   "metadata": {},
   "outputs": [],
   "source": [
    "df['label'] = labels\n",
    "df = df[['timestamp', 'price', 'label']]\n",
    "df['datetime'] = pd.to_datetime(df['timestamp'], unit='ms')\n",
    "df.rename(columns={\"label\": \"kmeans_raw_data_label\"}, inplace=True)\n",
    "df.to_csv(\"./result_data/gmm_raw.csv\")"
   ]
  }
 ],
 "metadata": {
  "kernelspec": {
   "display_name": "Python 3",
   "language": "python",
   "name": "python3"
  },
  "language_info": {
   "codemirror_mode": {
    "name": "ipython",
    "version": 3
   },
   "file_extension": ".py",
   "mimetype": "text/x-python",
   "name": "python",
   "nbconvert_exporter": "python",
   "pygments_lexer": "ipython3",
   "version": "3.11.4"
  }
 },
 "nbformat": 4,
 "nbformat_minor": 2
}
